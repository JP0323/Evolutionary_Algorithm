{
 "cells": [
  {
   "cell_type": "markdown",
   "id": "28971f7b",
   "metadata": {},
   "source": [
    "# Implement an evolutionary algorithm\n",
    "### To solve Bank Problem\n",
    "\n",
    "The Problem\n",
    "\n",
    "Working for a bank, you have been asked to develop an evolutionary algorithm based system which will find the largest amount of money that can be packed into a security van. The money is separated into 100 bags of different denominations and the weight and value of the money of each bag is shown on the outside of the bag, e.g., \n",
    "\n",
    "1. Bag 1 Weight = 9.4Kg, Value = £57\n",
    "2. Bag 2 Weight = 7.4Kg, Value = £94\n",
    "3. -- \n",
    "100. Bag 100 Weight = 3.9Kg, Value = £59\n",
    "\n",
    "The security van can carry only a limited weight, so your system must try and decide which bags to put \n",
    "on the van, and which ones to leave behind. The best solution will be the one which packs the most \n",
    "money (in terms of value) into the van without overloading it. \n",
    "- Your system should read in the 100 bag values from the file “BankProblem.txt” which is provided along with this document. \n",
    "- The file contains the weight limit for the security van and the values and weights for each bag of money. Weights are all in kilos and the values are all in pounds sterling. \n",
    "- You must decide how to represent this problem to the evolutionary algorithm, you must also decide what the fitness function should be."
   ]
  },
  {
   "cell_type": "markdown",
   "id": "5688fdba",
   "metadata": {},
   "source": [
    "### The Bank Problem is given in .txt file(BankProblem.txt)\n",
    "It contains the details as\n",
    "\n",
    "security van capacity: 285\n",
    "\n",
    "     bag 1:\n",
    "         weight: 9.4\n",
    "         value: 57\n",
    "         \n",
    "**Converting the text file to CSV**"
   ]
  },
  {
   "cell_type": "code",
   "execution_count": 722,
   "id": "e1990386",
   "metadata": {},
   "outputs": [],
   "source": [
    "import csv\n",
    "\n",
    "filename = \"BankProblem.csv\"\n",
    "\n",
    "# Open the file in write mode and create a csv.writer object\n",
    "with open(filename, \"w\", newline=\"\") as file:\n",
    "    writer = csv.writer(file)\n",
    "    \n",
    "    # Open the txt file and copying data\n",
    "    with open('BankProblem.txt', newline='') as f:\n",
    "        reader = csv.reader(f, skipinitialspace=True, delimiter=':', quoting=csv.QUOTE_NONE)\n",
    "        row_list = []\n",
    "        #Removing strings and saving integers\n",
    "        for row in reader:\n",
    "            if row[0] == 'security van capacity' :\n",
    "                continue\n",
    "            else:\n",
    "                bag = row[0].split()\n",
    "                if len(bag) == 2:\n",
    "                    row_list.append(bag[1])\n",
    "                elif row[0] == 'weight':\n",
    "                    row_list.append(row[1])\n",
    "                elif row[0] == 'value':\n",
    "                    row_list.append(row[1])\n",
    "                    writer.writerow(row_list)\n",
    "                    row_list = []  "
   ]
  },
  {
   "cell_type": "markdown",
   "id": "0580837a",
   "metadata": {},
   "source": [
    "### Import the required libraries"
   ]
  },
  {
   "cell_type": "code",
   "execution_count": 723,
   "id": "9dc10694",
   "metadata": {},
   "outputs": [],
   "source": [
    "import pandas as pd\n",
    "import numpy as np\n",
    "import random\n",
    "import operator\n",
    "import matplotlib.pyplot as plt\n",
    "from timeit import default_timer as timer"
   ]
  },
  {
   "cell_type": "markdown",
   "id": "991888af",
   "metadata": {},
   "source": [
    "### Using the CSV file to make a dataframe using pandas"
   ]
  },
  {
   "cell_type": "code",
   "execution_count": 724,
   "id": "b9ee26ad",
   "metadata": {},
   "outputs": [],
   "source": [
    "df = pd.read_csv('BankProblem.csv', sep = ',' , names = ['Bag','weight','amount'])"
   ]
  },
  {
   "cell_type": "code",
   "execution_count": 725,
   "id": "37a648d0",
   "metadata": {},
   "outputs": [
    {
     "data": {
      "text/html": [
       "<div>\n",
       "<style scoped>\n",
       "    .dataframe tbody tr th:only-of-type {\n",
       "        vertical-align: middle;\n",
       "    }\n",
       "\n",
       "    .dataframe tbody tr th {\n",
       "        vertical-align: top;\n",
       "    }\n",
       "\n",
       "    .dataframe thead th {\n",
       "        text-align: right;\n",
       "    }\n",
       "</style>\n",
       "<table border=\"1\" class=\"dataframe\">\n",
       "  <thead>\n",
       "    <tr style=\"text-align: right;\">\n",
       "      <th></th>\n",
       "      <th>Bag</th>\n",
       "      <th>weight</th>\n",
       "      <th>amount</th>\n",
       "    </tr>\n",
       "  </thead>\n",
       "  <tbody>\n",
       "    <tr>\n",
       "      <th>0</th>\n",
       "      <td>1</td>\n",
       "      <td>9.4</td>\n",
       "      <td>57</td>\n",
       "    </tr>\n",
       "    <tr>\n",
       "      <th>1</th>\n",
       "      <td>2</td>\n",
       "      <td>7.4</td>\n",
       "      <td>94</td>\n",
       "    </tr>\n",
       "    <tr>\n",
       "      <th>2</th>\n",
       "      <td>3</td>\n",
       "      <td>7.7</td>\n",
       "      <td>59</td>\n",
       "    </tr>\n",
       "    <tr>\n",
       "      <th>3</th>\n",
       "      <td>4</td>\n",
       "      <td>7.4</td>\n",
       "      <td>83</td>\n",
       "    </tr>\n",
       "    <tr>\n",
       "      <th>4</th>\n",
       "      <td>5</td>\n",
       "      <td>2.9</td>\n",
       "      <td>82</td>\n",
       "    </tr>\n",
       "  </tbody>\n",
       "</table>\n",
       "</div>"
      ],
      "text/plain": [
       "   Bag  weight  amount\n",
       "0    1     9.4      57\n",
       "1    2     7.4      94\n",
       "2    3     7.7      59\n",
       "3    4     7.4      83\n",
       "4    5     2.9      82"
      ]
     },
     "execution_count": 725,
     "metadata": {},
     "output_type": "execute_result"
    }
   ],
   "source": [
    "df.head()"
   ]
  },
  {
   "cell_type": "markdown",
   "id": "c5c499aa",
   "metadata": {},
   "source": [
    "### Making lists from the dataframe"
   ]
  },
  {
   "cell_type": "code",
   "execution_count": 726,
   "id": "cb2ff241",
   "metadata": {},
   "outputs": [],
   "source": [
    "weights = df['weight'].values.tolist()\n",
    "npweights = np.array(weights)\n",
    "amounts = df['amount'].values.tolist()\n",
    "npamounts = np.array(amounts)"
   ]
  },
  {
   "cell_type": "markdown",
   "id": "711a99e2",
   "metadata": {},
   "source": [
    "### Global variables"
   ]
  },
  {
   "cell_type": "code",
   "execution_count": 727,
   "id": "a5c621b7",
   "metadata": {},
   "outputs": [],
   "source": [
    "total_weight = 285\n",
    "total_bags = 100\n",
    "number_of_samples = 2"
   ]
  },
  {
   "cell_type": "markdown",
   "id": "98fbd6a1",
   "metadata": {},
   "source": [
    "### Method to Generate Random Population"
   ]
  },
  {
   "cell_type": "code",
   "execution_count": 728,
   "id": "7685a371",
   "metadata": {},
   "outputs": [],
   "source": [
    "#generating Population with 1's and 0's using population number \n",
    "def generate_population(population_size, total_bags):\n",
    "    pop_list = []\n",
    "    while(len(pop_list) < population_size):\n",
    "        parent = np.random.randint(2, size=total_bags)\n",
    "        weightSum = np.dot(parent, npweights)\n",
    "        moneySum = np.dot(parent, npamounts)\n",
    "        if weightSum <= total_weight:\n",
    "            pop_list.append((moneySum, parent))\n",
    "            \n",
    "    return pop_list"
   ]
  },
  {
   "cell_type": "markdown",
   "id": "a0a37177",
   "metadata": {},
   "source": [
    "### Method to Perform Binary Tournment Selection "
   ]
  },
  {
   "cell_type": "code",
   "execution_count": 729,
   "id": "82df0399",
   "metadata": {},
   "outputs": [],
   "source": [
    "#binary tournment selection\n",
    "def tournament_selection(fit_parents, t_size):\n",
    "    # Selecting random parents from the population\n",
    "    # t_size = tournment size which can be changed based on preference \n",
    "    random_nums = np.random.choice(fit_parents.shape[0], size=t_size, replace=False)\n",
    "    \n",
    "    #Taking two lists for comparision\n",
    "    one = np.dot(fit_parents[random_nums[0]],npamounts)\n",
    "    two = np.dot(fit_parents[random_nums[1]],npamounts)\n",
    "    \n",
    "    first_best = []\n",
    "    second_best = []\n",
    "    \n",
    "    if one > two:\n",
    "        first_best = fit_parents[random_nums[0]]\n",
    "        second_best = fit_parents[random_nums[1]]\n",
    "    else:\n",
    "        first_best = fit_parents[random_nums[1]]\n",
    "        second_best = fit_parents[random_nums[0]]\n",
    "    \n",
    "    i = 0\n",
    "    #Loop to iterate among all the lists\n",
    "    #Based on fitness values the first_best and second_best are updated\n",
    "    while i < t_size:\n",
    "        \n",
    "        first = np.dot(fit_parents[random_nums[i]],npamounts)\n",
    "        second = np.dot(fit_parents[random_nums[i+1]],npamounts)\n",
    "        \n",
    "        if first > second:\n",
    "            best_in_loop = fit_parents[random_nums[i]]\n",
    "        else:\n",
    "            best_in_loop = fit_parents[random_nums[i+1]]\n",
    "            \n",
    "        if np.dot(first_best,npamounts) < np.dot(best_in_loop,npamounts):\n",
    "            first_best = best_in_loop\n",
    "        elif np.dot(second_best,npamounts) < np.dot(best_in_loop,npamounts):\n",
    "            second_best = best_in_loop\n",
    "            \n",
    "        i += 2\n",
    "        \n",
    "    return first_best, second_best"
   ]
  },
  {
   "cell_type": "markdown",
   "id": "5fe6e899",
   "metadata": {},
   "source": [
    "### Method to perform Single-point Crossover "
   ]
  },
  {
   "cell_type": "code",
   "execution_count": 730,
   "id": "841ad6a4",
   "metadata": {},
   "outputs": [],
   "source": [
    "def Crossover(a, b):          \n",
    "    #a and b are winners of the tournment selection\n",
    "    #Crossover among a and b to produce children c and d\n",
    "    #Single-Point Crossover - randomNum\n",
    "    \n",
    "    randomNum = random.randint(1, total_bags-1)\n",
    "    children = np.zeros((number_of_samples,total_bags))\n",
    "    children[0] = np.concatenate((a[:randomNum],b[randomNum:]), axis=None) #c\n",
    "    children[1] = np.concatenate((b[:randomNum],a[randomNum:]), axis=None) #d\n",
    "    \n",
    "    return children"
   ]
  },
  {
   "cell_type": "markdown",
   "id": "48fe2a19",
   "metadata": {},
   "source": [
    "### Method to perform Mutation"
   ]
  },
  {
   "cell_type": "code",
   "execution_count": 731,
   "id": "574c68d6",
   "metadata": {},
   "outputs": [],
   "source": [
    "#mutation to c and d to produce e and f\n",
    "def mutation(children, m_num):\n",
    "    #M(3) – three mutation per chromosome , M(1) – one mutation per chromosome\n",
    "    mutated_children = np.zeros((2,total_bags))\n",
    "    for index in range(len(children)):\n",
    "        mutate_child =  children[index]\n",
    "        for i in range(len(mutate_child)):\n",
    "            for j in range(m_num):\n",
    "                k = random.uniform(0, 1)\n",
    "                if k < 0.5:\n",
    "                    if mutate_child[i] == 1:\n",
    "                        mutate_child[i] = 0\n",
    "                    else: \n",
    "                        mutate_child[i] = 1\n",
    "        mutated_children[index] = mutate_child\n",
    "    \n",
    "    return mutated_children"
   ]
  },
  {
   "cell_type": "markdown",
   "id": "7f691732",
   "metadata": {},
   "source": [
    "### Method to Evaluate the Fitness"
   ]
  },
  {
   "cell_type": "code",
   "execution_count": 732,
   "id": "4119f29c",
   "metadata": {},
   "outputs": [],
   "source": [
    "#Evaluating fitness of Mutated Children\n",
    "def fitness_of_children(mutated_children, m_num):\n",
    "    fit_child = []\n",
    "    for num in range(len(mutated_children)):\n",
    "        child = mutated_children[num]\n",
    "       \n",
    "        weightSum = np.dot(child, npweights)\n",
    "        moneySum = np.dot(child, npamounts)\n",
    "        \n",
    "        if weightSum > total_weight:\n",
    "            fitness_value = -1\n",
    "        else:\n",
    "            fit_child.append((moneySum, child))\n",
    "    \n",
    "    #if the children are fit and the result is not empty, then it moves towards weakest replacement\n",
    "    #else if the children are not fit and empty. The mutation process runs again.\n",
    "    \n",
    "    if fit_child != []:\n",
    "        return fit_child\n",
    "    else:\n",
    "        while fit_child == []:\n",
    "            mutated_children = mutation(mutated_children, m_num)\n",
    "            fit_child = fitness_of_children(mutated_children, m_num)\n",
    "            \n",
    "    return fit_child"
   ]
  },
  {
   "cell_type": "markdown",
   "id": "5251db85",
   "metadata": {},
   "source": [
    "### Method to Replace the Weakest from the list"
   ]
  },
  {
   "cell_type": "code",
   "execution_count": 733,
   "id": "f0ef9d75",
   "metadata": {},
   "outputs": [],
   "source": [
    "#Weakest replacement of Mutated children: if the population's weakest member is weaker than the children then it is replaced.\n",
    "def weakest_replacement(fit_child, best_ones):\n",
    "    for n in range(0,len(fit_child)):\n",
    "        if fit_child[n][0] > best_ones[-1][0]:\n",
    "            best_ones[-1] = fit_child[n]\n",
    "            break\n",
    "            \n",
    "    return best_ones"
   ]
  },
  {
   "cell_type": "markdown",
   "id": "d9aae461",
   "metadata": {},
   "source": [
    "### Main method"
   ]
  },
  {
   "cell_type": "code",
   "execution_count": 734,
   "id": "6e081b0b",
   "metadata": {},
   "outputs": [],
   "source": [
    "def main_method(population_size, iterating_size, t_size, m_num):\n",
    "    \n",
    "    #Generating a random initial population\n",
    "    best_ones = generate_population(population_size, total_bags)\n",
    "\n",
    "    #First running step\n",
    "    x = [] #for number of loops/iterations\n",
    "    y = [] #best amount achived after every iteration\n",
    "\n",
    "    start = timer()\n",
    "    \n",
    "    fit_parents = np.zeros((population_size,total_bags))\n",
    "    \n",
    "    #Iterating Loop\n",
    "    for loop in range(iterating_size):\n",
    "        x.append(loop)\n",
    "\n",
    "        for num in range(len(best_ones)):\n",
    "            fit_parents[num] = best_ones[num][1]\n",
    "\n",
    "        \n",
    "        #Main method after population is generated\n",
    "        a, b = tournament_selection(fit_parents, t_size)\n",
    "        \n",
    "        children = Crossover(a, b)\n",
    "        \n",
    "        mutated_children = mutation(children, m_num)\n",
    "        \n",
    "        fit_child = fitness_of_children(mutated_children, m_num)\n",
    "        \n",
    "        best_ones = weakest_replacement(fit_child, best_ones)\n",
    "\n",
    "        #sorting the population with respect to total Amount.\n",
    "        best_ones.sort(key=operator.itemgetter(0), reverse=True)\n",
    "\n",
    "        y.append(best_ones[0][0])\n",
    "\n",
    "        end = timer()\n",
    "\n",
    "    #to record the time taken for the process\n",
    "    \n",
    "\n",
    "    #Graphical Representation of the Results\n",
    "    print(f'For Iterations = {iterating_size} population size = {population_size}, Tournment size = {t_size}, Mutation number = {m_num}')\n",
    "    print('Time Taken : ', end - start)\n",
    "    plt.plot(x, y)\n",
    "    plt.xlabel('No of Loops')\n",
    "    plt.ylabel('Highest Amount')\n",
    "    plt.title('Iteration Comparision')\n",
    "    plt.show()\n",
    "    print('Max amount ',y[-1], ' time taken ', end - start) \n",
    "    print('')\n",
    "    \n",
    "    Final_list = [best_ones[0][0], population_size, iterating_size, t_size, m_num]\n",
    "    \n",
    "    return Final_list"
   ]
  },
  {
   "cell_type": "markdown",
   "id": "8a9ad427",
   "metadata": {},
   "source": [
    "## Main Code\n",
    "\n",
    "**Change the values of Iteration size, tournment size, mutation number to see the changes**"
   ]
  },
  {
   "cell_type": "code",
   "execution_count": 735,
   "id": "86970a88",
   "metadata": {
    "scrolled": true
   },
   "outputs": [
    {
     "name": "stdout",
     "output_type": "stream",
     "text": [
      "For Iterations = 100000 population size = 100, Tournment size = 4, Mutation number = 1\n",
      "Time Taken :  37.897053400000004\n"
     ]
    },
    {
     "data": {
      "image/png": "[encoded data removed]",
      "text/plain": [
       "<Figure size 432x288 with 1 Axes>"
      ]
     },
     "metadata": {
      "needs_background": "light"
     },
     "output_type": "display_data"
    },
    {
     "name": "stdout",
     "output_type": "stream",
     "text": [
      "Max amount  3671.0  time taken  37.897053400000004\n",
      "\n",
      " Maximum Value = 3671.0  at Iterations = 100000 population size = 100, Tournment size = 4, Mutation number = 1\n"
     ]
    }
   ],
   "source": [
    "#Termination Criterion\n",
    "# iterating_size = iternations number \n",
    "# t_size = tournment size 4, 8, ..\n",
    "# m_num = mutation number 1,3\n",
    "#population_size = 100. 150, 200\n",
    "\n",
    "mutations = [1] #,3]\n",
    "tournments = [4] #, 8]\n",
    "populations = [100] #, 150, 200]\n",
    "iterations = [1_00_000] #, 15_000, 20_000]\n",
    "\n",
    "All_sols = []\n",
    "\n",
    "for iterating_size in iterations:\n",
    "    for population_size in populations:\n",
    "        for t_size in tournments:\n",
    "            for m_num in mutations:\n",
    "                final_list = main_method(population_size, iterating_size, t_size, m_num)\n",
    "                All_sols.append(final_list)\n",
    "\n",
    "                \n",
    "max_value = max(All_sols, key=lambda x: x[0])\n",
    "\n",
    "print(f' Maximum Value = {max_value[0]}  at Iterations = {max_value[2]} population size = {max_value[1]}, Tournment size = {max_value[3]}, Mutation number = {max_value[4]}' )"
   ]
  },
  {
   "cell_type": "code",
   "execution_count": null,
   "id": "bebaaec6",
   "metadata": {},
   "outputs": [],
   "source": []
  },
  {
   "cell_type": "code",
   "execution_count": null,
   "id": "83616a90",
   "metadata": {},
   "outputs": [],
   "source": []
  }
 ],
 "metadata": {
  "kernelspec": {
   "display_name": "Python 3 (ipykernel)",
   "language": "python",
   "name": "python3"
  },
  "language_info": {
   "codemirror_mode": {
    "name": "ipython",
    "version": 3
   },
   "file_extension": ".py",
   "mimetype": "text/x-python",
   "name": "python",
   "nbconvert_exporter": "python",
   "pygments_lexer": "ipython3",
   "version": "3.9.12"
  }
 },
 "nbformat": 4,
 "nbformat_minor": 5
}
